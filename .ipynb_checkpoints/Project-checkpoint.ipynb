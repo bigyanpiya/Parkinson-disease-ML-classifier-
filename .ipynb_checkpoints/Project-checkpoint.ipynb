{
 "cells": [
  {
   "cell_type": "markdown",
   "id": "cf795c32",
   "metadata": {},
   "source": [
    "# Importing Libraries"
   ]
  },
  {
   "cell_type": "code",
   "execution_count": null,
   "id": "cb7f3491",
   "metadata": {},
   "outputs": [],
   "source": [
    "import numpy as np\n",
    "import matplotlib.pyplot as plt\n",
    "import pandas as pd\n",
    "import seaborn as sns\n",
    "from sklearn.preprocessing import MinMaxScaler\n",
    "from sklearn.metrics import confusion_matrix, accuracy_score\n",
    "import xgboost as xgb\n",
    "import gradio as gr"
   ]
  },
  {
   "cell_type": "markdown",
   "id": "38f412d0",
   "metadata": {},
   "source": [
    "#  Importing CSV Data"
   ]
  },
  {
   "cell_type": "code",
   "execution_count": null,
   "id": "4f1c1343",
   "metadata": {},
   "outputs": [],
   "source": [
    "dataset = pd.read_csv('C:/Users/ASUS/OneDrive/Documents/Parkinson/parkinsons.data')\n",
    "x=dataset.loc[:,dataset.columns!='status'].values[:,1:]\n",
    "x1=dataset.loc[:,dataset.columns!='status']\n",
    "y=dataset.loc[:,'status'].values\n",
    "y1=dataset.loc[:,'status']"
   ]
  },
  {
   "cell_type": "markdown",
   "id": "2c835beb",
   "metadata": {},
   "source": [
    "# Exploratory Data Analysis(EDA)"
   ]
  },
  {
   "cell_type": "code",
   "execution_count": null,
   "id": "a9ecc4b3",
   "metadata": {},
   "outputs": [],
   "source": [
    "dataset.describe()"
   ]
  },
  {
   "cell_type": "code",
   "execution_count": null,
   "id": "9ccb11a7",
   "metadata": {},
   "outputs": [],
   "source": [
    "dataset.shape"
   ]
  },
  {
   "cell_type": "code",
   "execution_count": null,
   "id": "ac42d845",
   "metadata": {},
   "outputs": [],
   "source": [
    "dataset.head(10)"
   ]
  },
  {
   "cell_type": "code",
   "execution_count": null,
   "id": "f768552b",
   "metadata": {},
   "outputs": [],
   "source": [
    "dataset.rename(columns=({'MDVP:Fo(Hz)':'avg_fre', 'MDVP:Fhi(Hz)':'max_fre', 'MDVP:Flo(Hz)':'min_fre', 'MDVP:Jitter(%)':'var_fre1',\n",
    "       'MDVP:Jitter(Abs)':'var_fre2', 'MDVP:RAP':'var_fre3', 'MDVP:PPQ':'var_fre4', 'Jitter:DDP':'var_fre5',\n",
    "       'MDVP:Shimmer':'var_amp1', 'MDVP:Shimmer(dB)':'var_amp2', 'Shimmer:APQ3':'var_amp3', 'Shimmer:APQ5':'var_amp4',\n",
    "       'MDVP:APQ':'var_amp5', 'Shimmer:DDA':'var_amp6'}),inplace=True)\n",
    "dataset"
   ]
  },
  {
   "cell_type": "code",
   "execution_count": null,
   "id": "e97fd61e",
   "metadata": {},
   "outputs": [],
   "source": [
    "dataset.info()"
   ]
  },
  {
   "cell_type": "code",
   "execution_count": null,
   "id": "b1df68f6",
   "metadata": {},
   "outputs": [],
   "source": [
    "dataset.duplicated().sum()"
   ]
  },
  {
   "cell_type": "code",
   "execution_count": null,
   "id": "481a111f",
   "metadata": {},
   "outputs": [],
   "source": [
    "dataset.isnull().sum()"
   ]
  },
  {
   "cell_type": "code",
   "execution_count": null,
   "id": "e0019a3b",
   "metadata": {},
   "outputs": [],
   "source": [
    "dataset.columns"
   ]
  },
  {
   "cell_type": "code",
   "execution_count": null,
   "id": "da3df9d6",
   "metadata": {},
   "outputs": [],
   "source": [
    "dataset.skew()"
   ]
  },
  {
   "cell_type": "code",
   "execution_count": null,
   "id": "61192d94",
   "metadata": {},
   "outputs": [],
   "source": [
    "x1.hist(figsize=(25,20))\n",
    "plt.show()"
   ]
  },
  {
   "cell_type": "code",
   "execution_count": null,
   "id": "ffb5d638",
   "metadata": {},
   "outputs": [],
   "source": [
    "#Filter data\n",
    "\n",
    "dataset[dataset['status']==1].head()"
   ]
  },
  {
   "cell_type": "code",
   "execution_count": null,
   "id": "19f3f33a",
   "metadata": {},
   "outputs": [],
   "source": [
    "dataset.corr()\n"
   ]
  },
  {
   "cell_type": "code",
   "execution_count": null,
   "id": "ddc5c4b4",
   "metadata": {},
   "outputs": [],
   "source": [
    "#Define plot size\n",
    "plt.figure(figsize=[6,6])\n",
    "\n",
    "#Define column to use\n",
    "data = dataset[\"status\"].value_counts(normalize=True)\n",
    "\n",
    "#Define labels\n",
    "labels = [\"Have PD\",\"Doesnot have PD\",]\n",
    "\n",
    "#Define color palette\n",
    "colors = sns.color_palette('pastel')\n",
    "\n",
    "#Create pie chart\n",
    "plt.pie(data,labels=labels,colors=colors, autopct='%.0f%%')\n",
    "plt.title(\"Proportion of Patients by Group\")\n",
    "plt.show()"
   ]
  },
  {
   "cell_type": "code",
   "execution_count": null,
   "id": "9ffeefde",
   "metadata": {},
   "outputs": [],
   "source": [
    "dataset[\"status\"].value_counts()"
   ]
  },
  {
   "cell_type": "code",
   "execution_count": null,
   "id": "d1a80837",
   "metadata": {},
   "outputs": [],
   "source": [
    "correl=x1.corr()\n",
    "plt.figure(figsize=(20,20))\n",
    "sns.heatmap(correl,annot=True,cmap='OrRd')\n",
    "plt.show()"
   ]
  },
  {
   "cell_type": "markdown",
   "id": "7449b71b",
   "metadata": {},
   "source": [
    "# Traning Test Data Split"
   ]
  },
  {
   "cell_type": "code",
   "execution_count": null,
   "id": "62556f25",
   "metadata": {},
   "outputs": [],
   "source": [
    "from sklearn.model_selection import train_test_split\n",
    "X_train, X_test, y_train, y_test = train_test_split(x, y, test_size = 0.15, random_state = 0)"
   ]
  },
  {
   "cell_type": "code",
   "execution_count": null,
   "id": "1d3aaaf6",
   "metadata": {},
   "outputs": [],
   "source": [
    "print(X_train)"
   ]
  },
  {
   "cell_type": "code",
   "execution_count": null,
   "id": "e2dbacf9",
   "metadata": {
    "scrolled": true
   },
   "outputs": [],
   "source": [
    "print(y_train)"
   ]
  },
  {
   "cell_type": "code",
   "execution_count": null,
   "id": "a3596def",
   "metadata": {},
   "outputs": [],
   "source": [
    "len(y_train)"
   ]
  },
  {
   "cell_type": "markdown",
   "id": "abf74f00",
   "metadata": {},
   "source": [
    "# Feature Scaling"
   ]
  },
  {
   "cell_type": "code",
   "execution_count": null,
   "id": "2c9b9b9f",
   "metadata": {},
   "outputs": [],
   "source": [
    "from sklearn.preprocessing import StandardScaler\n",
    "sc = StandardScaler()\n",
    "X_train = sc.fit_transform(X_train)\n",
    "X_test = sc.transform(X_test)"
   ]
  },
  {
   "cell_type": "code",
   "execution_count": null,
   "id": "891bb766",
   "metadata": {
    "scrolled": true
   },
   "outputs": [],
   "source": [
    "print(X_train)"
   ]
  },
  {
   "cell_type": "code",
   "execution_count": null,
   "id": "f72a4bef",
   "metadata": {},
   "outputs": [],
   "source": [
    "print(X_test)"
   ]
  },
  {
   "cell_type": "markdown",
   "id": "5dbd5e3e",
   "metadata": {},
   "source": [
    "# Logistic Regression"
   ]
  },
  {
   "cell_type": "code",
   "execution_count": null,
   "id": "905c4300",
   "metadata": {},
   "outputs": [],
   "source": [
    "from sklearn.linear_model import LogisticRegression\n",
    "classifier = LogisticRegression(random_state = 0)\n",
    "classifier.fit(X_train, y_train)"
   ]
  },
  {
   "cell_type": "code",
   "execution_count": null,
   "id": "e196a668",
   "metadata": {},
   "outputs": [],
   "source": [
    "y_pred=classifier.predict(X_test)\n",
    "y_pred"
   ]
  },
  {
   "cell_type": "code",
   "execution_count": null,
   "id": "12482a14",
   "metadata": {},
   "outputs": [],
   "source": [
    "y_test"
   ]
  },
  {
   "cell_type": "code",
   "execution_count": null,
   "id": "962caf22",
   "metadata": {},
   "outputs": [],
   "source": [
    "classifier.score(X_test,y_test)*100"
   ]
  },
  {
   "cell_type": "code",
   "execution_count": null,
   "id": "8ac40503",
   "metadata": {},
   "outputs": [],
   "source": [
    "\n",
    "cm = confusion_matrix(y_test, y_pred)\n",
    "print(cm)\n",
    "accuracy_score(y_test, y_pred)"
   ]
  },
  {
   "cell_type": "code",
   "execution_count": null,
   "id": "8c52d147",
   "metadata": {},
   "outputs": [],
   "source": [
    "newinput=[[274.688,240.005,174.287,0.01360,0.01008,0.00624,0.00564,0.01873,1.02308,0.256,0.51268,0.01365,0.81667,0.63804,0.10715,6.883,0.607567,0.158453,3.679772,0.131728,2.381826,0.206552]]"
   ]
  },
  {
   "cell_type": "code",
   "execution_count": null,
   "id": "1bfbafcc",
   "metadata": {},
   "outputs": [],
   "source": [
    "output=classifier.predict(newinput)\n",
    "output"
   ]
  },
  {
   "cell_type": "markdown",
   "id": "98991738",
   "metadata": {},
   "source": [
    "# XGBOOST"
   ]
  },
  {
   "cell_type": "code",
   "execution_count": null,
   "id": "5829e48d",
   "metadata": {},
   "outputs": [],
   "source": [
    "from xgboost import XGBClassifier\n",
    "classifier = XGBClassifier(random_state = 0)\n",
    "classifier.fit(X_train, y_train)"
   ]
  },
  {
   "cell_type": "code",
   "execution_count": null,
   "id": "d0d1cf4f",
   "metadata": {},
   "outputs": [],
   "source": [
    "y_pred=classifier.predict(X_test)\n",
    "y_pred"
   ]
  },
  {
   "cell_type": "code",
   "execution_count": null,
   "id": "a49155d2",
   "metadata": {},
   "outputs": [],
   "source": [
    "len(y_pred)"
   ]
  },
  {
   "cell_type": "code",
   "execution_count": null,
   "id": "8a0a2b56",
   "metadata": {},
   "outputs": [],
   "source": [
    "y_test"
   ]
  },
  {
   "cell_type": "code",
   "execution_count": null,
   "id": "54e8bedb",
   "metadata": {},
   "outputs": [],
   "source": [
    "classifier.score(X_test,y_test)*100"
   ]
  },
  {
   "cell_type": "code",
   "execution_count": null,
   "id": "d7727b3f",
   "metadata": {},
   "outputs": [],
   "source": [
    "cm = confusion_matrix(y_test, y_pred)\n",
    "print(cm)\n",
    "accuracy_score(y_test, y_pred)"
   ]
  },
  {
   "cell_type": "code",
   "execution_count": null,
   "id": "db45624a",
   "metadata": {},
   "outputs": [],
   "source": [
    "newinput=[[274.688,240.005,174.287,0.01360,0.01008,0.00624,0.00564,0.01873,1.02308,0.256,0.51268,0.01365,0.81667,0.63804,0.10715,6.883,0.607567,0.158453,3.679772,0.131728,2.381826,0.206552]]"
   ]
  },
  {
   "cell_type": "code",
   "execution_count": null,
   "id": "b6fb56d8",
   "metadata": {},
   "outputs": [],
   "source": [
    "output=classifier.predict(newinput)\n",
    "output"
   ]
  },
  {
   "cell_type": "markdown",
   "id": "915ab3dd",
   "metadata": {},
   "source": [
    "# Support Vector Machine(SVM)"
   ]
  },
  {
   "cell_type": "code",
   "execution_count": null,
   "id": "8feab907",
   "metadata": {},
   "outputs": [],
   "source": [
    "from sklearn.svm import SVC\n",
    "classifier = SVC(kernel = 'poly',degree=1, random_state = 0)\n",
    "classifier.fit(X_train, y_train)"
   ]
  },
  {
   "cell_type": "code",
   "execution_count": null,
   "id": "8a9c1799",
   "metadata": {},
   "outputs": [],
   "source": [
    "y_test"
   ]
  },
  {
   "cell_type": "code",
   "execution_count": null,
   "id": "883ce31b",
   "metadata": {},
   "outputs": [],
   "source": [
    "y_pred=classifier.predict(X_test)\n",
    "y_pred"
   ]
  },
  {
   "cell_type": "code",
   "execution_count": null,
   "id": "12c6839e",
   "metadata": {},
   "outputs": [],
   "source": [
    "y_test"
   ]
  },
  {
   "cell_type": "code",
   "execution_count": null,
   "id": "4ce24fef",
   "metadata": {},
   "outputs": [],
   "source": [
    "classifier.score(X_test,y_test)*100"
   ]
  },
  {
   "cell_type": "code",
   "execution_count": null,
   "id": "e3fa6c5a",
   "metadata": {},
   "outputs": [],
   "source": [
    "cm = confusion_matrix(y_test, y_pred)\n",
    "print(cm)\n",
    "accuracy_score(y_test, y_pred)"
   ]
  },
  {
   "cell_type": "code",
   "execution_count": null,
   "id": "58326f48",
   "metadata": {},
   "outputs": [],
   "source": [
    "newinput=[[274.688,240.005,174.287,0.01360,0.01008,0.00624,0.00564,0.01873,1.02308,0.256,0.51268,0.01365,0.81667,0.63804,0.10715,6.883,0.607567,0.158453,3.679772,0.131728,2.381826,0.206552]]"
   ]
  },
  {
   "cell_type": "code",
   "execution_count": null,
   "id": "5c97c2b0",
   "metadata": {},
   "outputs": [],
   "source": [
    "output=classifier.predict(newinput)\n",
    "output"
   ]
  },
  {
   "cell_type": "markdown",
   "id": "c2d50c8f",
   "metadata": {},
   "source": [
    "# Naive bayes"
   ]
  },
  {
   "cell_type": "code",
   "execution_count": null,
   "id": "791b77ae",
   "metadata": {},
   "outputs": [],
   "source": [
    "from sklearn.naive_bayes import GaussianNB\n",
    "classifier = GaussianNB()\n",
    "classifier.fit(X_train, y_train)"
   ]
  },
  {
   "cell_type": "code",
   "execution_count": null,
   "id": "3aa58260",
   "metadata": {},
   "outputs": [],
   "source": [
    "y_test"
   ]
  },
  {
   "cell_type": "code",
   "execution_count": null,
   "id": "8820ed87",
   "metadata": {},
   "outputs": [],
   "source": [
    "y_pred=classifier.predict(X_test)\n",
    "y_pred"
   ]
  },
  {
   "cell_type": "code",
   "execution_count": null,
   "id": "ef87ed28",
   "metadata": {},
   "outputs": [],
   "source": [
    "classifier.score(X_test,y_test)*100"
   ]
  },
  {
   "cell_type": "code",
   "execution_count": null,
   "id": "99d4a46d",
   "metadata": {},
   "outputs": [],
   "source": [
    "cm = confusion_matrix(y_test, y_pred)\n",
    "print(cm)\n",
    "accuracy_score(y_test, y_pred)"
   ]
  },
  {
   "cell_type": "code",
   "execution_count": null,
   "id": "363eb325",
   "metadata": {},
   "outputs": [],
   "source": [
    "newinput=[[274.688,240.005,174.287,0.01360,0.01008,0.00624,0.00564,0.01873,1.02308,0.256,0.51268,0.01365,0.81667,0.63804,0.10715,6.883,0.607567,0.158453,3.679772,0.131728,2.381826,0.206552]]"
   ]
  },
  {
   "cell_type": "code",
   "execution_count": null,
   "id": "78f19d15",
   "metadata": {},
   "outputs": [],
   "source": [
    "output=classifier.predict(newinput)\n",
    "output"
   ]
  },
  {
   "cell_type": "markdown",
   "id": "b7083221",
   "metadata": {},
   "source": [
    "# Decision Tree"
   ]
  },
  {
   "cell_type": "code",
   "execution_count": null,
   "id": "96873415",
   "metadata": {},
   "outputs": [],
   "source": [
    "from sklearn.tree import DecisionTreeClassifier\n",
    "classifier = DecisionTreeClassifier(criterion = 'entropy', random_state = 0)\n",
    "classifier.fit(X_train, y_train)"
   ]
  },
  {
   "cell_type": "code",
   "execution_count": null,
   "id": "77e8b007",
   "metadata": {},
   "outputs": [],
   "source": [
    "y_test"
   ]
  },
  {
   "cell_type": "code",
   "execution_count": null,
   "id": "e560923f",
   "metadata": {},
   "outputs": [],
   "source": [
    "y_pred=classifier.predict(X_test)\n",
    "y_pred"
   ]
  },
  {
   "cell_type": "code",
   "execution_count": null,
   "id": "46ee9727",
   "metadata": {},
   "outputs": [],
   "source": [
    "classifier.score(X_test,y_test)*100"
   ]
  },
  {
   "cell_type": "code",
   "execution_count": null,
   "id": "56de4f15",
   "metadata": {},
   "outputs": [],
   "source": [
    "newinput=[[274.688,240.005,174.287,0.01360,0.01008,0.00624,0.00564,0.01873,1.02308,0.256,0.51268,0.01365,0.81667,0.63804,0.10715,6.883,0.607567,0.158453,3.679772,0.131728,2.381826,0.206552]]"
   ]
  },
  {
   "cell_type": "code",
   "execution_count": null,
   "id": "b782cf14",
   "metadata": {},
   "outputs": [],
   "source": [
    "cm = confusion_matrix(y_test, y_pred)\n",
    "print(cm)\n",
    "accuracy_score(y_test, y_pred)"
   ]
  },
  {
   "cell_type": "code",
   "execution_count": null,
   "id": "0c53984b",
   "metadata": {},
   "outputs": [],
   "source": [
    "output=classifier.predict(newinput)\n",
    "output"
   ]
  },
  {
   "cell_type": "markdown",
   "id": "5170a823",
   "metadata": {},
   "source": [
    "# Random Forest"
   ]
  },
  {
   "cell_type": "code",
   "execution_count": null,
   "id": "9d43f5aa",
   "metadata": {},
   "outputs": [],
   "source": [
    "from sklearn.ensemble import RandomForestClassifier\n",
    "classifier = RandomForestClassifier(n_estimators = 10, criterion = 'entropy', random_state = 0)\n",
    "classifier.fit(X_train, y_train)"
   ]
  },
  {
   "cell_type": "code",
   "execution_count": null,
   "id": "a0d0ad78",
   "metadata": {},
   "outputs": [],
   "source": [
    "y_test"
   ]
  },
  {
   "cell_type": "code",
   "execution_count": null,
   "id": "61e53f24",
   "metadata": {},
   "outputs": [],
   "source": [
    "y_pred=classifier.predict(X_test)\n",
    "y_pred"
   ]
  },
  {
   "cell_type": "code",
   "execution_count": null,
   "id": "20fa4674",
   "metadata": {},
   "outputs": [],
   "source": [
    "classifier.score(X_test,y_test)*100"
   ]
  },
  {
   "cell_type": "markdown",
   "id": "04b834ab",
   "metadata": {},
   "source": [
    "newinput=[[274.688,240.005,174.287,0.01360,0.01008,0.00624,0.00564,0.01873,1.02308,0.256,0.51268,0.01365,0.81667,0.63804,0.10715,6.883,0.607567,0.158453,3.679772,0.131728,2.381826,0.206552]]"
   ]
  },
  {
   "cell_type": "code",
   "execution_count": null,
   "id": "4d079595",
   "metadata": {},
   "outputs": [],
   "source": [
    "cm = confusion_matrix(y_test, y_pred)\n",
    "print(cm)\n",
    "accuracy_score(y_test, y_pred)"
   ]
  },
  {
   "cell_type": "code",
   "execution_count": null,
   "id": "a24ed0ae",
   "metadata": {},
   "outputs": [],
   "source": [
    "output=classifier.predict(newinput)\n",
    "output"
   ]
  },
  {
   "cell_type": "markdown",
   "id": "1159da3b",
   "metadata": {},
   "source": [
    "# K-Nearest Neighbour"
   ]
  },
  {
   "cell_type": "code",
   "execution_count": null,
   "id": "26afecf1",
   "metadata": {},
   "outputs": [],
   "source": [
    "from sklearn.neighbors import KNeighborsClassifier\n",
    "classifier = KNeighborsClassifier(n_neighbors = 5, metric = 'minkowski', p = 2)\n",
    "classifier.fit(X_train, y_train)"
   ]
  },
  {
   "cell_type": "code",
   "execution_count": null,
   "id": "e4ce5b16",
   "metadata": {},
   "outputs": [],
   "source": [
    "y_pred=classifier.predict(X_test)\n",
    "y_pred"
   ]
  },
  {
   "cell_type": "code",
   "execution_count": null,
   "id": "a7f1e909",
   "metadata": {},
   "outputs": [],
   "source": [
    "classifier.score(X_test,y_test)*100"
   ]
  },
  {
   "cell_type": "code",
   "execution_count": null,
   "id": "7b726d1b",
   "metadata": {},
   "outputs": [],
   "source": [
    "cm = confusion_matrix(y_test, y_pred)\n",
    "print(cm)\n",
    "accuracy_score(y_test, y_pred)"
   ]
  },
  {
   "cell_type": "code",
   "execution_count": null,
   "id": "2fe21cd9",
   "metadata": {},
   "outputs": [],
   "source": [
    "newinput=[[274.688,240.005,174.287,0.01360,0.01008,0.00624,0.00564,0.01873,1.02308,0.256,0.51268,0.01365,0.81667,0.63804,0.10715,6.883,0.607567,0.158453,3.679772,0.131728,2.381826,0.206552]]"
   ]
  },
  {
   "cell_type": "code",
   "execution_count": null,
   "id": "5f96ff41",
   "metadata": {},
   "outputs": [],
   "source": [
    "output=classifier.predict(newinput)\n",
    "output"
   ]
  },
  {
   "cell_type": "code",
   "execution_count": null,
   "id": "e6e42022",
   "metadata": {},
   "outputs": [],
   "source": [
    "#geting our columns\n",
    "\n",
    "print(dataset.columns)"
   ]
  },
  {
   "cell_type": "code",
   "execution_count": null,
   "id": "1271523b",
   "metadata": {},
   "outputs": [],
   "source": [
    "def pd(avg_fre, max_fre, min_fre, var_fre1, var_fre2,var_fre3, var_fre4, var_fre5, var_amp1, var_amp2, var_amp3,\n",
    "       var_amp4, var_amp5, var_amp6, NHR, HNR,RPDE,DFA, spread1, spread2, D2, PPE):\n",
    "#turning the arguments into a numpy array  \n",
    "\n",
    " x = np.array([avg_fre, max_fre, min_fre, var_fre1, var_fre2,var_fre3, var_fre4, var_fre5, var_amp1, var_amp2, var_amp3,\n",
    "       var_amp4, var_amp5, var_amp6, NHR, HNR,RPDE,DFA, spread1, spread2, D2, PPE])\n",
    "\n",
    " output=classifier.predict(x.reshape(1, -1))\n",
    " if output==1:\n",
    "        return(\"You may have PD.Plese consult doctor\")\n",
    " elif output==0:\n",
    "  return(\"You may not have PD\")\n",
    " "
   ]
  },
  {
   "cell_type": "code",
   "execution_count": null,
   "id": "65d45d2e",
   "metadata": {},
   "outputs": [],
   "source": [
    "outputs = gr.outputs.Textbox()\n",
    "\n",
    "app = gr.Interface(fn=pd, inputs=['number','number','number','number','number','number','number','number','number','number','number','number','number','number','number','number','number','number','number','number','number','number'], outputs=outputs,description=\"This is a K-NN model\")"
   ]
  },
  {
   "cell_type": "code",
   "execution_count": null,
   "id": "87e0fb69",
   "metadata": {},
   "outputs": [],
   "source": [
    "app.launch()"
   ]
  },
  {
   "cell_type": "code",
   "execution_count": null,
   "id": "7d9cd262",
   "metadata": {},
   "outputs": [],
   "source": []
  }
 ],
 "metadata": {
  "kernelspec": {
   "display_name": "Python 3 (ipykernel)",
   "language": "python",
   "name": "python3"
  },
  "language_info": {
   "codemirror_mode": {
    "name": "ipython",
    "version": 3
   },
   "file_extension": ".py",
   "mimetype": "text/x-python",
   "name": "python",
   "nbconvert_exporter": "python",
   "pygments_lexer": "ipython3",
   "version": "3.9.13"
  }
 },
 "nbformat": 4,
 "nbformat_minor": 5
}
